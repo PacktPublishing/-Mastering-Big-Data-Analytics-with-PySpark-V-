{
 "cells": [
  {
   "cell_type": "code",
   "execution_count": null,
   "metadata": {},
   "outputs": [],
   "source": [
    "import socket\n",
    "import sys\n",
    "import requests\n",
    "import requests_oauthlib\n",
    "import json\n",
    "\n",
    "# SETTINGS\n",
    "# Replace the values below with your own\n",
    "# Twitter Consumer API keys\n",
    "CONSUMER_KEY = \"OEHl3FraeFTHNgdjOj8xT4hcWY\"\n",
    "CONSUMER_SECRET = \"pitTZPaRJgyaAeqM6YVWCnLkqrsXkSd8wQEecKrZRzZaDHCQe4\"\n",
    "# Twitter Access token & access token secret\n",
    "ACCESS_TOKEN = \"1152234679065595906-JcMvsPncdnxSgcLrDiSa0OIdTGN8QP\"\n",
    "ACCESS_SECRET = \"BnET56OLXTIV5ItlFyl3xe9NURxyzHTWPoTEcbEYVS5IR\"\n",
    "# You may customize the IP and Port, defaults should suffice though\n",
    "TCP_IP = \"localhost\"\n",
    "TCP_PORT = 39009\n",
    "\n",
    "# Establish connection\n",
    "my_auth = requests_oauthlib.OAuth1(\n",
    "    CONSUMER_KEY, CONSUMER_SECRET, ACCESS_TOKEN, ACCESS_SECRET\n",
    ")\n",
    "\n",
    "\n",
    "def get_tweets():\n",
    "    url = \"https://stream.twitter.com/1.1/statuses/filter.json\"\n",
    "    query_data = [(\"language\", \"en\"), (\"locations\", \"-130,-20,100,50\"), (\"track\", \"#\")]\n",
    "    query_url = url + \"?\" + \"&\".join([str(t[0]) + \"=\" + str(t[1]) for t in query_data])\n",
    "    response = requests.get(query_url, auth=my_auth, stream=True)\n",
    "    print(query_url, response)\n",
    "    return response\n",
    "\n",
    "\n",
    "def send_tweets_to_spark(http_resp, tcp_connection):\n",
    "    for line in http_resp.iter_lines():\n",
    "        try:\n",
    "            full_tweet = json.loads(line)\n",
    "            tweet_text = full_tweet[\"text\"]\n",
    "            print(\"Tweet Text: \" + tweet_text)\n",
    "            print(\"------------------------------------------\")\n",
    "            tcp_connection.send(tweet_text + \"\\n\")\n",
    "        except:\n",
    "            e = sys.exc_info()[0]\n",
    "            print(\"Error: %s\" % e)\n",
    "\n",
    "\n",
    "if __name__ == \"__main__\":\n",
    "    s = socket.socket(socket.AF_INET, socket.SOCK_STREAM)\n",
    "    s.bind((TCP_IP, TCP_PORT))\n",
    "    s.listen(1)\n",
    "    print(\"Waiting for TCP connection...\")\n",
    "    connection, address = s.accept()\n",
    "    print(\"Connected... Starting getting tweets.\")\n",
    "    resp = get_tweets()\n",
    "    send_tweets_to_spark(resp, connection)\n"
   ]
  },
  {
   "cell_type": "code",
   "execution_count": null,
   "metadata": {},
   "outputs": [],
   "source": []
  }
 ],
 "metadata": {
  "kernelspec": {
   "display_name": "Python 3",
   "language": "python",
   "name": "python3"
  },
  "language_info": {
   "codemirror_mode": {
    "name": "ipython",
    "version": 3
   },
   "file_extension": ".py",
   "mimetype": "text/x-python",
   "name": "python",
   "nbconvert_exporter": "python",
   "pygments_lexer": "ipython3",
   "version": "3.7.3"
  }
 },
 "nbformat": 4,
 "nbformat_minor": 2
}
