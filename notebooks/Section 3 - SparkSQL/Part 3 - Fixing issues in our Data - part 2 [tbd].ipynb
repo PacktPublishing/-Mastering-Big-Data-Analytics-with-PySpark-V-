{
 "cells": [
  {
   "cell_type": "markdown",
   "metadata": {},
   "source": [
    "# Part 3: Fixing issues in our Data - part 2\n",
    "\n",
    "... introduction  \n",
    "... mention sql functions  \n",
    "To achieve this we are going to be using some functions from [the pyspark.sql.functions module](https://spark.apache.org/docs/2.4.3/api/python/pyspark.sql.html#module-pyspark.sql.functions).  \n",
    "*__TIP:__ Take your time to study the `functions` module, as it contains a lot of useful functions.*\n",
    "\n",
    "... that functions need to be explicitly imported, as they are otherwise not available for use\n",
    "\n",
    "... Same as in part 1, we are going to be using the `ratings.csv` as provided in the MovieLens data. "
   ]
  },
  {
   "cell_type": "markdown",
   "metadata": {},
   "source": [
    "## SparkSession and Settings\n",
    "Before we continue, set up a SparkSession."
   ]
  },
  {
   "cell_type": "code",
   "execution_count": null,
   "metadata": {},
   "outputs": [],
   "source": [
    "from pyspark.sql import SparkSession\n",
    "\n",
    "spark = SparkSession.builder.appName(\"MovieLens_Tutorial\").getOrCreate()"
   ]
  },
  {
   "cell_type": "markdown",
   "metadata": {},
   "source": [
    "Additionally, we have to define some settings to ensure proper operations.\n",
    " - `RATINGS_CSV_LOCATION` is used to tell our Spark Application where to find the ratings.csv file"
   ]
  },
  {
   "cell_type": "code",
   "execution_count": null,
   "metadata": {},
   "outputs": [],
   "source": [
    "# Location of the ratings.csv  file\n",
    "RATINGS_CSV_LOCATION = \"/home/jovyan/data/ml-latest-small/ratings.csv\""
   ]
  },
  {
   "cell_type": "markdown",
   "metadata": {},
   "source": [
    "## Loading Data\n",
    "Before proceeding, ensure that the CSV data is loaded to a proper `df` object (output of part 1)"
   ]
  },
  {
   "cell_type": "code",
   "execution_count": null,
   "metadata": {},
   "outputs": [],
   "source": [
    "#  Type safe loading of ratings.csv file\n",
    "df = spark.read.csv(\n",
    "    path=RATINGS_CSV_LOCATION,\n",
    "    sep=\",\",\n",
    "    header=True,\n",
    "    quote='\"',\n",
    "    encoding=\"UTF-8\",\n",
    "    schema=\"userId INT, movieId INT, rating DOUBLE, timestamp INT\",\n",
    ")"
   ]
  },
  {
   "cell_type": "markdown",
   "metadata": {},
   "source": [
    "## Next thing to discus ......\n",
    "\n",
    "..."
   ]
  },
  {
   "cell_type": "code",
   "execution_count": 3,
   "metadata": {},
   "outputs": [],
   "source": [
    "%load_ext blackcellmagic"
   ]
  },
  {
   "cell_type": "code",
   "execution_count": null,
   "metadata": {},
   "outputs": [],
   "source": [
    "%%black\n"
   ]
  },
  {
   "cell_type": "code",
   "execution_count": null,
   "metadata": {},
   "outputs": [],
   "source": []
  },
  {
   "cell_type": "markdown",
   "metadata": {},
   "source": [
    "## What we've learned so far:\n",
    "- ...\n",
    "\n",
    "---"
   ]
  },
  {
   "cell_type": "code",
   "execution_count": null,
   "metadata": {},
   "outputs": [],
   "source": [
    "# Stop the spark application, frees up resources\n",
    "spark.stop()"
   ]
  },
  {
   "cell_type": "markdown",
   "metadata": {},
   "source": [
    "end of part 2"
   ]
  }
 ],
 "metadata": {
  "kernelspec": {
   "display_name": "Python 3",
   "language": "python",
   "name": "python3"
  },
  "language_info": {
   "codemirror_mode": {
    "name": "ipython",
    "version": 3
   },
   "file_extension": ".py",
   "mimetype": "text/x-python",
   "name": "python",
   "nbconvert_exporter": "python",
   "pygments_lexer": "ipython3",
   "version": "3.7.3"
  }
 },
 "nbformat": 4,
 "nbformat_minor": 2
}
