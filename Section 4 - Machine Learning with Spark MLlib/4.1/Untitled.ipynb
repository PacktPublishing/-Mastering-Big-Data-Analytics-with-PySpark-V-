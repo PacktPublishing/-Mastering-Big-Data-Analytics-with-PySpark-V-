{
 "cells": [
  {
   "cell_type": "code",
   "execution_count": 4,
   "metadata": {},
   "outputs": [],
   "source": [
    "from pyspark.sql import SparkSession\n",
    "\n",
    "spark = SparkSession.builder.appName('scratching').getOrCreate()"
   ]
  },
  {
   "cell_type": "code",
   "execution_count": 5,
   "metadata": {},
   "outputs": [
    {
     "name": "stdout",
     "output_type": "stream",
     "text": [
      "+---+------+-------+--------+------+--------+---------+----------+\n",
      "| id|big_id|tiny_id|small_id|int_id|float_id|double_id|decimal_id|\n",
      "+---+------+-------+--------+------+--------+---------+----------+\n",
      "|  1|     1|      1|       1|     1|     1.0|      1.0|       1.0|\n",
      "|  2|     2|      2|       2|     2|     2.0|      2.0|       2.0|\n",
      "|  3|     3|      3|       3|     3|     3.0|      3.0|       3.0|\n",
      "|  4|     4|      4|       4|     4|     4.0|      4.0|       4.0|\n",
      "|  5|     5|      5|       5|     5|     5.0|      5.0|       5.0|\n",
      "|  6|     6|      6|       6|     6|     6.0|      6.0|       6.0|\n",
      "|  7|     7|      7|       7|     7|     7.0|      7.0|       7.0|\n",
      "|  8|     8|      8|       8|     8|     8.0|      8.0|       8.0|\n",
      "|  9|     9|      9|       9|     9|     9.0|      9.0|       9.0|\n",
      "+---+------+-------+--------+------+--------+---------+----------+\n",
      "\n",
      "root\n",
      " |-- id: long (nullable = false)\n",
      " |-- big_id: long (nullable = false)\n",
      " |-- tiny_id: byte (nullable = false)\n",
      " |-- small_id: short (nullable = false)\n",
      " |-- int_id: integer (nullable = false)\n",
      " |-- float_id: float (nullable = false)\n",
      " |-- double_id: double (nullable = false)\n",
      " |-- decimal_id: decimal(10,1) (nullable = true)\n",
      "\n",
      "+-------+------------------+------------------+------------------+------------------+------------------+------------------+------------------+------------------+\n",
      "|summary|                id|            big_id|           tiny_id|          small_id|            int_id|          float_id|         double_id|        decimal_id|\n",
      "+-------+------------------+------------------+------------------+------------------+------------------+------------------+------------------+------------------+\n",
      "|  count|                 9|                 9|                 9|                 9|                 9|                 9|                 9|                 9|\n",
      "|   mean|               5.0|               5.0|               5.0|               5.0|               5.0|               5.0|               5.0|           5.00000|\n",
      "| stddev|2.7386127875258306|2.7386127875258306|2.7386127875258306|2.7386127875258306|2.7386127875258306|2.7386127875258306|2.7386127875258306|2.7386127875258306|\n",
      "|    min|                 1|                 1|                 1|                 1|                 1|               1.0|               1.0|               1.0|\n",
      "|    max|                 9|                 9|                 9|                 9|                 9|               9.0|               9.0|               9.0|\n",
      "+-------+------------------+------------------+------------------+------------------+------------------+------------------+------------------+------------------+\n",
      "\n",
      "+-------+-----------+------------+-------------+-----------+-------------+--------------+---------------+\n",
      "|sum(id)|sum(big_id)|sum(tiny_id)|sum(small_id)|sum(int_id)|sum(float_id)|sum(double_id)|sum(decimal_id)|\n",
      "+-------+-----------+------------+-------------+-----------+-------------+--------------+---------------+\n",
      "|     45|         45|          45|           45|         45|         45.0|          45.0|           45.0|\n",
      "+-------+-----------+------------+-------------+-----------+-------------+--------------+---------------+\n",
      "\n",
      "[Row(id=1, big_id=1, tiny_id=1, small_id=1, int_id=1, float_id=1.0, double_id=1.0, decimal_id=Decimal('1.0')), Row(id=2, big_id=2, tiny_id=2, small_id=2, int_id=2, float_id=2.0, double_id=2.0, decimal_id=Decimal('2.0')), Row(id=3, big_id=3, tiny_id=3, small_id=3, int_id=3, float_id=3.0, double_id=3.0, decimal_id=Decimal('3.0'))]\n"
     ]
    }
   ],
   "source": [
    "# NUMERIC TYPES IN SPARK\n",
    "# df = spark.range(0,20,1,1)\n",
    "\n",
    "# BIGINT (8-byte signed integer, from -9,223,372,036,854,775,808 to 9,223,372,036,854,775,807)\n",
    "# Spark type: `long` >> types.LongType\n",
    "# df_bigint = df.selectExpr(\"cast(id as BIGINT) big_id\")\n",
    "# df_bigint.show()\n",
    "# df_bigint.printSchema()\n",
    "\n",
    "# TINYINT (1-byte signed integer, from -128 to 127)\n",
    "# Spark type: `byte` >> types.ByteType\n",
    "# df_tinyint = df.selectExpr(\"cast(id as TINYINT) tiny_id\")\n",
    "# df_tinyint.show()\n",
    "# df_tinyint.printSchema()\n",
    "\n",
    "# SMALLINT (2-byte signed integer, from -32,768 to 32,767)\n",
    "# Spark type: `short` >> types.ShortType\n",
    "# df_smallint = df.selectExpr(\"cast(id as SMALLINT) small_id\")\n",
    "# df_smallint.show()\n",
    "# df_smallint.printSchema()\n",
    "\n",
    "# INT (4-byte signed integer, from -2,147,483,648 to 2,147,483,647)\n",
    "# Spark type: `integer` >> types.IntegerType\n",
    "# df_int = df.selectExpr(\"cast(id as INT) int_id\")\n",
    "# df_int.show()\n",
    "# df_int.printSchema()\n",
    "\n",
    "# FLOAT (4-byte single precision floating point number)\n",
    "# Spark type: `float` >> types.FloatType\n",
    "# df_float = df.selectExpr(\"cast(id as FLOAT) float_id\")\n",
    "# df_float.show()\n",
    "# df_float.printSchema()\n",
    "\n",
    "# DOUBLE (8-byte double precision floating point number)\n",
    "# Spark type: `double` >> types.DoubleType\n",
    "# df_double = df.selectExpr(\"cast(id as DOUBLE) double_id\")\n",
    "# df_double.show()\n",
    "# df_double.printSchema()\n",
    "\n",
    "# DECIMAL (Hive 0.13.0 introduced user definable precision and scale)\n",
    "# Spark type: `decimal(10,1)` >> types.DecimalType\n",
    "# df_decimal = df.selectExpr(\"cast(id as DECIMAL(10,1)) decimal_id\")\n",
    "# df_decimal.show()\n",
    "# df_decimal.printSchema()\n",
    "\n",
    "# All numeric types together in one DataFrame\n",
    "spark.range(1,10,1,1).createOrReplaceTempView(\"ids\")\n",
    "df_numerics = spark.sql(\n",
    "    \"\"\"\n",
    "    SELECT\n",
    "        id,\n",
    "        cast(id as BIGINT) big_id,\n",
    "        cast(id as TINYINT) tiny_id,\n",
    "        cast(id as SMALLINT) small_id,\n",
    "        cast(id as INT) int_id,\n",
    "        cast(id as FLOAT) float_id,\n",
    "        cast(id as DOUBLE) double_id,\n",
    "        cast(id as DECIMAL(10,1)) decimal_id\n",
    "    FROM ids\n",
    "    \"\"\"\n",
    ")\n",
    "df_numerics.show()\n",
    "df_numerics.printSchema()\n",
    "\n",
    "df_numerics.describe().show()\n",
    "df_numerics.groupBy().sum().show()\n",
    "print(df_numerics.take(3))"
   ]
  },
  {
   "cell_type": "code",
   "execution_count": 10,
   "metadata": {},
   "outputs": [
    {
     "data": {
      "text/plain": [
       "[5.0]"
      ]
     },
     "execution_count": 10,
     "metadata": {},
     "output_type": "execute_result"
    }
   ],
   "source": [
    "df_numerics.approxQuantile('id', [0.5], 0)"
   ]
  },
  {
   "cell_type": "code",
   "execution_count": 11,
   "metadata": {},
   "outputs": [
    {
     "data": {
      "text/plain": [
       "1.0"
      ]
     },
     "execution_count": 11,
     "metadata": {},
     "output_type": "execute_result"
    }
   ],
   "source": [
    "df_numerics.corr('id', 'tiny_id')"
   ]
  },
  {
   "cell_type": "code",
   "execution_count": 13,
   "metadata": {},
   "outputs": [
    {
     "data": {
      "text/plain": [
       "['id',\n",
       " 'big_id',\n",
       " 'tiny_id',\n",
       " 'small_id',\n",
       " 'int_id',\n",
       " 'float_id',\n",
       " 'double_id',\n",
       " 'decimal_id']"
      ]
     },
     "execution_count": 13,
     "metadata": {},
     "output_type": "execute_result"
    }
   ],
   "source": [
    "df_numerics.columns"
   ]
  },
  {
   "cell_type": "code",
   "execution_count": 19,
   "metadata": {},
   "outputs": [
    {
     "name": "stdout",
     "output_type": "stream",
     "text": [
      "['id', 'big_id']\n"
     ]
    },
    {
     "data": {
      "text/plain": [
       "DataFrame[id: bigint]"
      ]
     },
     "execution_count": 19,
     "metadata": {},
     "output_type": "execute_result"
    }
   ],
   "source": [
    "df = df_numerics.select('id', 'big_id')\n",
    "print(df.columns)\n",
    "df = df.select('id')\n",
    "df"
   ]
  },
  {
   "cell_type": "code",
   "execution_count": 18,
   "metadata": {},
   "outputs": [
    {
     "data": {
      "text/plain": [
       "7.5"
      ]
     },
     "execution_count": 18,
     "metadata": {},
     "output_type": "execute_result"
    }
   ],
   "source": [
    "df = df_numerics.cov('id', 'big_id')\n",
    "df"
   ]
  },
  {
   "cell_type": "code",
   "execution_count": 23,
   "metadata": {},
   "outputs": [],
   "source": [
    "rdd = df_numerics.toJSON()"
   ]
  },
  {
   "cell_type": "code",
   "execution_count": 26,
   "metadata": {},
   "outputs": [
    {
     "data": {
      "text/plain": [
       "['id',\n",
       " 'big_id',\n",
       " 'tiny_id',\n",
       " 'small_id',\n",
       " 'int_id',\n",
       " 'float_id',\n",
       " 'double_id',\n",
       " 'decimal_id']"
      ]
     },
     "execution_count": 26,
     "metadata": {},
     "output_type": "execute_result"
    }
   ],
   "source": [
    "df_numerics.columns"
   ]
  },
  {
   "cell_type": "code",
   "execution_count": 29,
   "metadata": {},
   "outputs": [],
   "source": [
    "iter_df = df_numerics.toLocalIterator()"
   ]
  },
  {
   "cell_type": "code",
   "execution_count": 35,
   "metadata": {},
   "outputs": [
    {
     "data": {
      "text/plain": [
       "StorageLevel(False, False, False, False, 1)"
      ]
     },
     "execution_count": 35,
     "metadata": {},
     "output_type": "execute_result"
    }
   ],
   "source": [
    "df_numerics.storageLevel"
   ]
  },
  {
   "cell_type": "code",
   "execution_count": 36,
   "metadata": {},
   "outputs": [
    {
     "data": {
      "text/plain": [
       "StructType(List(StructField(id,LongType,false),StructField(big_id,LongType,false),StructField(tiny_id,ByteType,false),StructField(small_id,ShortType,false),StructField(int_id,IntegerType,false),StructField(float_id,FloatType,false),StructField(double_id,DoubleType,false),StructField(decimal_id,DecimalType(10,1),true)))"
      ]
     },
     "execution_count": 36,
     "metadata": {},
     "output_type": "execute_result"
    }
   ],
   "source": [
    "df_numerics.schema"
   ]
  },
  {
   "cell_type": "code",
   "execution_count": 39,
   "metadata": {},
   "outputs": [],
   "source": [
    "df_unp = df_numerics.unpersist()"
   ]
  },
  {
   "cell_type": "code",
   "execution_count": 41,
   "metadata": {},
   "outputs": [
    {
     "name": "stdout",
     "output_type": "stream",
     "text": [
      "+---+------+-------+--------+------+--------+---------+----------+\n",
      "| id|big_id|tiny_id|small_id|int_id|float_id|double_id|decimal_id|\n",
      "+---+------+-------+--------+------+--------+---------+----------+\n",
      "|  1|     1|      1|       1|     1|     1.0|      1.0|       1.0|\n",
      "|  2|     2|      2|       2|     2|     2.0|      2.0|       2.0|\n",
      "|  3|     3|      3|       3|     3|     3.0|      3.0|       3.0|\n",
      "|  4|     4|      4|       4|     4|     4.0|      4.0|       4.0|\n",
      "|  5|     5|      5|       5|     5|     5.0|      5.0|       5.0|\n",
      "|  6|     6|      6|       6|     6|     6.0|      6.0|       6.0|\n",
      "|  7|     7|      7|       7|     7|     7.0|      7.0|       7.0|\n",
      "|  8|     8|      8|       8|     8|     8.0|      8.0|       8.0|\n",
      "|  9|     9|      9|       9|     9|     9.0|      9.0|       9.0|\n",
      "+---+------+-------+--------+------+--------+---------+----------+\n",
      "\n"
     ]
    }
   ],
   "source": [
    "df_unp.show()"
   ]
  },
  {
   "cell_type": "code",
   "execution_count": 45,
   "metadata": {},
   "outputs": [
    {
     "data": {
      "text/plain": [
       "63"
      ]
     },
     "execution_count": 45,
     "metadata": {},
     "output_type": "execute_result"
    }
   ],
   "source": [
    "df_unp.rdd.id()"
   ]
  },
  {
   "cell_type": "code",
   "execution_count": 47,
   "metadata": {},
   "outputs": [
    {
     "data": {
      "text/plain": [
       "9"
      ]
     },
     "execution_count": 47,
     "metadata": {},
     "output_type": "execute_result"
    }
   ],
   "source": [
    "df_unp.count()"
   ]
  },
  {
   "cell_type": "code",
   "execution_count": 48,
   "metadata": {},
   "outputs": [
    {
     "data": {
      "text/plain": [
       "False"
      ]
     },
     "execution_count": 48,
     "metadata": {},
     "output_type": "execute_result"
    }
   ],
   "source": [
    "df_unp.isStreaming"
   ]
  },
  {
   "cell_type": "code",
   "execution_count": 52,
   "metadata": {},
   "outputs": [
    {
     "name": "stdout",
     "output_type": "stream",
     "text": [
      "+--------------------+--------------------+\n",
      "|        id_freqItems|  small_id_freqItems|\n",
      "+--------------------+--------------------+\n",
      "|[8, 2, 5, 4, 7, 1...|[8, 2, 5, 4, 7, 1...|\n",
      "+--------------------+--------------------+\n",
      "\n"
     ]
    }
   ],
   "source": [
    "df_numerics.freqItems(['id', 'small_id']).show()"
   ]
  },
  {
   "cell_type": "code",
   "execution_count": 55,
   "metadata": {},
   "outputs": [
    {
     "name": "stdout",
     "output_type": "stream",
     "text": [
      "+-----------+---+---+---+---+---+---+---+---+---+\n",
      "|id_small_id|  1|  2|  3|  4|  5|  6|  7|  8|  9|\n",
      "+-----------+---+---+---+---+---+---+---+---+---+\n",
      "|          5|  0|  0|  0|  0|  1|  0|  0|  0|  0|\n",
      "|          1|  1|  0|  0|  0|  0|  0|  0|  0|  0|\n",
      "|          6|  0|  0|  0|  0|  0|  1|  0|  0|  0|\n",
      "|          9|  0|  0|  0|  0|  0|  0|  0|  0|  1|\n",
      "|          2|  0|  1|  0|  0|  0|  0|  0|  0|  0|\n",
      "|          7|  0|  0|  0|  0|  0|  0|  1|  0|  0|\n",
      "|          3|  0|  0|  1|  0|  0|  0|  0|  0|  0|\n",
      "|          8|  0|  0|  0|  0|  0|  0|  0|  1|  0|\n",
      "|          4|  0|  0|  0|  1|  0|  0|  0|  0|  0|\n",
      "+-----------+---+---+---+---+---+---+---+---+---+\n",
      "\n"
     ]
    }
   ],
   "source": [
    "df_numerics.crosstab('id', 'small_id').show()"
   ]
  },
  {
   "cell_type": "code",
   "execution_count": 56,
   "metadata": {},
   "outputs": [
    {
     "data": {
      "text/plain": [
       "DataFrame[id: bigint, big_id: bigint, tiny_id: tinyint, small_id: smallint, int_id: int, float_id: float, double_id: double, decimal_id: decimal(10,1)]"
      ]
     },
     "execution_count": 56,
     "metadata": {},
     "output_type": "execute_result"
    }
   ],
   "source": [
    "df_numerics.cache()"
   ]
  },
  {
   "cell_type": "code",
   "execution_count": null,
   "metadata": {},
   "outputs": [],
   "source": []
  }
 ],
 "metadata": {
  "kernelspec": {
   "display_name": "Python 3",
   "language": "python",
   "name": "python3"
  },
  "language_info": {
   "codemirror_mode": {
    "name": "ipython",
    "version": 3
   },
   "file_extension": ".py",
   "mimetype": "text/x-python",
   "name": "python",
   "nbconvert_exporter": "python",
   "pygments_lexer": "ipython3",
   "version": "3.7.3"
  }
 },
 "nbformat": 4,
 "nbformat_minor": 2
}
