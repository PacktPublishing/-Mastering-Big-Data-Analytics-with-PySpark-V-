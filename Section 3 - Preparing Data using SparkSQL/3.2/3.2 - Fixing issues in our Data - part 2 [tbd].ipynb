{
 "cells": [
  {
   "cell_type": "markdown",
   "metadata": {},
   "source": [
    "# Part 3: Fixing issues in our Data - part 2\n",
    "\n",
    "... introduction  \n",
    "... mention sql functions  \n",
    "To achieve this we are going to be using some functions from [the pyspark.sql.functions module](https://spark.apache.org/docs/2.4.3/api/python/pyspark.sql.html#module-pyspark.sql.functions).  \n",
    "*__TIP:__ Take your time to study the `functions` module, as it contains a lot of useful functions.*\n",
    "\n",
    "... that functions need to be explicitly imported, as they are otherwise not available for use\n",
    "\n",
    "... Same as in part 1, we are going to be using the `movies.csv` as provided in the MovieLens data. "
   ]
  },
  {
   "cell_type": "markdown",
   "metadata": {},
   "source": [
    "## SparkSession and Settings\n",
    "Before we continue, set up a SparkSession."
   ]
  },
  {
   "cell_type": "code",
   "execution_count": 10,
   "metadata": {},
   "outputs": [],
   "source": [
    "from pyspark.sql import SparkSession\n",
    "from pyspark.sql import functions as f\n",
    "\n",
    "spark = SparkSession.builder.appName(\"MovieLens_Tutorial\").getOrCreate()"
   ]
  },
  {
   "cell_type": "markdown",
   "metadata": {},
   "source": [
    "Additionally, we have to define some settings to ensure proper operations.\n",
    " - `MOVIES_CSV_LOCATION` is used to tell our Spark Application where to find the ratings.csv file"
   ]
  },
  {
   "cell_type": "code",
   "execution_count": 11,
   "metadata": {},
   "outputs": [],
   "source": [
    "# Location of the ratings.csv  file\n",
    "MOVIES_CSV_LOCATION = \"/home/jovyan/data-sets/ml-latest-small/movies.csv\""
   ]
  },
  {
   "cell_type": "markdown",
   "metadata": {},
   "source": [
    "## Loading Data\n",
    "Before proceeding, ensure that the CSV data is loaded to a proper `df` object (output of part 1)"
   ]
  },
  {
   "cell_type": "code",
   "execution_count": 5,
   "metadata": {},
   "outputs": [],
   "source": [
    "#  Type safe loading of ratings.csv file\n",
    "df = spark.read.csv(\n",
    "    path=MOVIES_CSV_LOCATION,\n",
    "    sep=\",\",\n",
    "    header=True,\n",
    "    quote='\"',\n",
    "    encoding=\"UTF-8\",\n",
    ")\n",
    "\n",
    "df = spark.read.csv('movies.csv', header=True)\n",
    "df.show(100, False)\n",
    "df.describe().show(100, False)"
   ]
  },
  {
   "cell_type": "code",
   "execution_count": 13,
   "metadata": {},
   "outputs": [
    {
     "name": "stdout",
     "output_type": "stream",
     "text": [
      "+-------+--------------------+------------------+\n",
      "|movieId|               title|            genres|\n",
      "+-------+--------------------+------------------+\n",
      "| 114335|   La cravate (1957)|(no genres listed)|\n",
      "| 122888|      Ben-hur (2016)|(no genres listed)|\n",
      "| 122896|Pirates of the Ca...|(no genres listed)|\n",
      "| 129250|   Superfast! (2015)|(no genres listed)|\n",
      "| 132084| Let It Be Me (1995)|(no genres listed)|\n",
      "| 134861|Trevor Noah: Afri...|(no genres listed)|\n",
      "| 141131|    Guardians (2016)|(no genres listed)|\n",
      "| 141866|   Green Room (2015)|(no genres listed)|\n",
      "| 142456|The Brand New Tes...|(no genres listed)|\n",
      "| 143410|          Hyena Road|(no genres listed)|\n",
      "| 147250|The Adventures of...|(no genres listed)|\n",
      "| 149330|A Cosmic Christma...|(no genres listed)|\n",
      "| 152037|  Grease Live (2016)|(no genres listed)|\n",
      "| 155589|Noin 7 veljestä (...|(no genres listed)|\n",
      "| 156605|            Paterson|(no genres listed)|\n",
      "| 159161|Ali Wong: Baby Co...|(no genres listed)|\n",
      "| 159779|A Midsummer Night...|(no genres listed)|\n",
      "| 161008|The Forbidden Dan...|(no genres listed)|\n",
      "| 165489|Ethel & Ernest (2...|(no genres listed)|\n",
      "| 166024|     Whiplash (2013)|(no genres listed)|\n",
      "+-------+--------------------+------------------+\n",
      "only showing top 20 rows\n",
      "\n",
      "+-------+--------------------+--------------------+\n",
      "|movieId|               title|              genres|\n",
      "+-------+--------------------+--------------------+\n",
      "|      1|    Toy Story (1995)|[Adventure, Anima...|\n",
      "|      2|      Jumanji (1995)|[Adventure, Child...|\n",
      "|      3|Grumpier Old Men ...|   [Comedy, Romance]|\n",
      "|      4|Waiting to Exhale...|[Comedy, Drama, R...|\n",
      "|      5|Father of the Bri...|            [Comedy]|\n",
      "|      6|         Heat (1995)|[Action, Crime, T...|\n",
      "|      7|      Sabrina (1995)|   [Comedy, Romance]|\n",
      "|      8| Tom and Huck (1995)|[Adventure, Child...|\n",
      "|      9| Sudden Death (1995)|            [Action]|\n",
      "|     10|    GoldenEye (1995)|[Action, Adventur...|\n",
      "|     11|American Presiden...|[Comedy, Drama, R...|\n",
      "|     12|Dracula: Dead and...|    [Comedy, Horror]|\n",
      "|     13|        Balto (1995)|[Adventure, Anima...|\n",
      "|     14|        Nixon (1995)|             [Drama]|\n",
      "|     15|Cutthroat Island ...|[Action, Adventur...|\n",
      "|     16|       Casino (1995)|      [Crime, Drama]|\n",
      "|     17|Sense and Sensibi...|    [Drama, Romance]|\n",
      "|     18|   Four Rooms (1995)|            [Comedy]|\n",
      "|     19|Ace Ventura: When...|            [Comedy]|\n",
      "|     20|  Money Train (1995)|[Action, Comedy, ...|\n",
      "+-------+--------------------+--------------------+\n",
      "only showing top 20 rows\n",
      "\n",
      "+-----------+\n",
      "|      genre|\n",
      "+-----------+\n",
      "|      Crime|\n",
      "|    Romance|\n",
      "|   Thriller|\n",
      "|  Adventure|\n",
      "|      Drama|\n",
      "|        War|\n",
      "|Documentary|\n",
      "|    Fantasy|\n",
      "|    Mystery|\n",
      "|    Musical|\n",
      "|  Animation|\n",
      "|  Film-Noir|\n",
      "|       IMAX|\n",
      "|     Horror|\n",
      "|    Western|\n",
      "|     Comedy|\n",
      "|   Children|\n",
      "|     Action|\n",
      "|     Sci-Fi|\n",
      "+-----------+\n",
      "\n"
     ]
    }
   ],
   "source": [
    "movies = spark.read.csv(\n",
    "    path=MOVIES_CSV_LOCATION,\n",
    "    header=True,\n",
    "    schema=\"movieId INT, title STRING, genres STRING\",\n",
    ")\n",
    "\n",
    "movies.where(f.col(\"genres\") == \"(no genres listed)\").show()\n",
    "\n",
    "movies = movies.replace(\"(no genres listed)\", None, \"genres\")\n",
    "\n",
    "movie_genre = (\n",
    "    movies.withColumn(\"genres_array\", f.split(\"genres\", \"\\|\"))\n",
    "    .withColumn(\"genre\", f.explode(\"genres_array\"))\n",
    "    .select(\"movieId\", \"genre\")\n",
    ")\n",
    "# movie_genre.show()\n",
    "\n",
    "movies = movies.withColumn(\"genres\", f.split(\"genres\", \"\\|\"))\n",
    "movies.show()\n",
    "\n",
    "available_genres = movie_genre.select(\"genre\").distinct()\n",
    "available_genres.show()"
   ]
  },
  {
   "cell_type": "markdown",
   "metadata": {},
   "source": [
    "## Next thing to discus ......\n",
    "\n",
    "..."
   ]
  },
  {
   "cell_type": "code",
   "execution_count": 6,
   "metadata": {},
   "outputs": [],
   "source": [
    "%load_ext blackcellmagic"
   ]
  },
  {
   "cell_type": "code",
   "execution_count": null,
   "metadata": {},
   "outputs": [],
   "source": [
    "%%black\n"
   ]
  },
  {
   "cell_type": "markdown",
   "metadata": {},
   "source": [
    "## What we've learned so far:\n",
    "- ...\n",
    "\n",
    "---"
   ]
  },
  {
   "cell_type": "code",
   "execution_count": null,
   "metadata": {},
   "outputs": [],
   "source": [
    "# Stop the spark application, frees up resources\n",
    "spark.stop()"
   ]
  },
  {
   "cell_type": "markdown",
   "metadata": {},
   "source": [
    "end of part 2"
   ]
  }
 ],
 "metadata": {
  "kernelspec": {
   "display_name": "Python 3",
   "language": "python",
   "name": "python3"
  },
  "language_info": {
   "codemirror_mode": {
    "name": "ipython",
    "version": 3
   },
   "file_extension": ".py",
   "mimetype": "text/x-python",
   "name": "python",
   "nbconvert_exporter": "python",
   "pygments_lexer": "ipython3",
   "version": "3.7.3"
  }
 },
 "nbformat": 4,
 "nbformat_minor": 2
}
